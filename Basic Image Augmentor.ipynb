{
 "cells": [
  {
   "cell_type": "markdown",
   "id": "93e50f91-1916-45e8-bfb0-b3b8693a4a68",
   "metadata": {},
   "source": [
    "# Basic Image Augmentor"
   ]
  },
  {
   "cell_type": "code",
   "execution_count": 1,
   "id": "b79640ed-5a46-40d4-aa92-22224d21b090",
   "metadata": {},
   "outputs": [],
   "source": [
    "import numpy as np \n",
    "import cv2 \n",
    "import matplotlib.pyplot as plt"
   ]
  },
  {
   "cell_type": "markdown",
   "id": "79cc7b00-b964-42cf-bf8e-73ac93af840e",
   "metadata": {},
   "source": [
    "## Challenge Build a Bird Eye View !¶\n",
    "Start making a prespective transformation for a highway image.\n",
    "\n",
    "Make a bird eye view video."
   ]
  },
  {
   "cell_type": "code",
   "execution_count": 2,
   "id": "bb0c03ab-64aa-4daf-9035-f2322c2fc8e1",
   "metadata": {},
   "outputs": [],
   "source": [
    "# Bird Eye View Video \n",
    "# Load 'road.mp4'\n",
    "pts1 = np.float32([[550,550],[700,550],[150,700],[1150,700]])\n",
    "pts2 = np.float32([[0,0],[400,0],[0,600],[400,600]])\n",
    "M = cv2.getPerspectiveTransform(pts1,pts2)\n",
    "\n",
    "cap = cv2.VideoCapture('road.mp4')\n",
    "\n",
    "while(1):\n",
    "    ret, frame = cap.read()\n",
    "    dst = cv2.warpPerspective(frame,M,(400,600))\n",
    "    cv2.imshow('Road', dst)\n",
    "    if cv2.waitKey(10) & 0xFF == ord('q'):\n",
    "        break\n",
    "        \n",
    "cap.release()\n",
    "cv2.destroyAllWindows()"
   ]
  },
  {
   "cell_type": "code",
   "execution_count": null,
   "id": "a6dc525b-aea3-404c-9d51-5d3c5374614f",
   "metadata": {},
   "outputs": [],
   "source": []
  }
 ],
 "metadata": {
  "kernelspec": {
   "display_name": "Python 3",
   "language": "python",
   "name": "python3"
  },
  "language_info": {
   "codemirror_mode": {
    "name": "ipython",
    "version": 3
   },
   "file_extension": ".py",
   "mimetype": "text/x-python",
   "name": "python",
   "nbconvert_exporter": "python",
   "pygments_lexer": "ipython3",
   "version": "3.8.8"
  }
 },
 "nbformat": 4,
 "nbformat_minor": 5
}
