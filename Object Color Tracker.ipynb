{
 "cells": [
  {
   "cell_type": "markdown",
   "id": "cef23998-520c-49ba-a379-70bb80fce232",
   "metadata": {},
   "source": [
    "# Object Color Tracker"
   ]
  },
  {
   "cell_type": "code",
   "execution_count": 1,
   "id": "e2b36034-7d46-4dd9-911d-170ff676740b",
   "metadata": {},
   "outputs": [],
   "source": [
    "import cv2 \n",
    "import numpy as np \n",
    "import matplotlib.pyplot as plt"
   ]
  },
  {
   "cell_type": "markdown",
   "id": "f2a3a120-1924-45f4-b037-dabc84d0da4c",
   "metadata": {},
   "source": [
    "Build Object Tracker By Color\n",
    "\n",
    "Function will ask the user about the object to track\n",
    "\n",
    "User feed string input e.g. \"Blue Shirt\"\n",
    "\n",
    "Function would use the first word to choose the corresponding lower and upper limit in range method\n",
    "\n",
    "Make the function ready for at least 3 colors ( Red , Green , Blue )"
   ]
  },
  {
   "cell_type": "code",
   "execution_count": 2,
   "id": "938428dd-e6aa-4232-aceb-55f83ebe224c",
   "metadata": {},
   "outputs": [],
   "source": [
    "def object_tracker():\n",
    "    ch_color = input('Please enter your color tracker e.g. \"Blue Shirt\": ')\n",
    "    color = ch_color.split()\n",
    "    color_list = ['red', 'blue', 'green']\n",
    "    while color[0].lower() not in color_list:\n",
    "        ch_color = input('Please enter your color tracker e.g. \"Blue Shirt\": ')\n",
    "        color = ch_color.split()\n",
    "    if color[0].lower() == 'blue':\n",
    "        lower = np.array([100,50,50])\n",
    "        upper = np.array([180,255,255])\n",
    "    elif color[0].lower() == 'green':\n",
    "        lower = np.array([30,50,50])\n",
    "        upper = np.array([90,255,255])\n",
    "    else:\n",
    "        lower = np.array([0,50,50])\n",
    "        upper = np.array([20,255,255])\n",
    "        #return lower, upper \n",
    "    \n",
    "    cap =cv2.VideoCapture(0)\n",
    "    while(1):\n",
    "        ret, frame = cap.read()\n",
    "        hsv = cv2.cvtColor(frame, cv2.COLOR_BGR2HSV)\n",
    "        mask = cv2.inRange(hsv, lower, upper)\n",
    "        res = cv2.bitwise_and(frame, frame, mask=mask)\n",
    "        \n",
    "        cv2.imshow('frame', frame)\n",
    "        cv2.imshow('mask', mask)\n",
    "        cv2.imshow('res', res)\n",
    "        \n",
    "        k = cv2.waitKey(5) & 0xFF\n",
    "        if k == 27:\n",
    "            break\n",
    "            \n",
    "    cap.release()\n",
    "    cv2.destroyAllWindows()"
   ]
  },
  {
   "cell_type": "code",
   "execution_count": 3,
   "id": "15eb74fd-083c-443f-aeec-b54edde952d4",
   "metadata": {},
   "outputs": [
    {
     "name": "stdin",
     "output_type": "stream",
     "text": [
      "Please enter your color tracker e.g. \"Blue Shirt\":  yellow pants\n",
      "Please enter your color tracker e.g. \"Blue Shirt\":  bird shirt\n",
      "Please enter your color tracker e.g. \"Blue Shirt\":  blue shirt\n"
     ]
    }
   ],
   "source": [
    "object_tracker()"
   ]
  },
  {
   "cell_type": "code",
   "execution_count": null,
   "id": "eae23ec8-bde5-4d60-bda6-27b7b008fc34",
   "metadata": {},
   "outputs": [],
   "source": []
  }
 ],
 "metadata": {
  "kernelspec": {
   "display_name": "Python 3",
   "language": "python",
   "name": "python3"
  },
  "language_info": {
   "codemirror_mode": {
    "name": "ipython",
    "version": 3
   },
   "file_extension": ".py",
   "mimetype": "text/x-python",
   "name": "python",
   "nbconvert_exporter": "python",
   "pygments_lexer": "ipython3",
   "version": "3.8.8"
  }
 },
 "nbformat": 4,
 "nbformat_minor": 5
}
