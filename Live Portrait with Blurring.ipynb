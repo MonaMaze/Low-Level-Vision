{
 "cells": [
  {
   "cell_type": "markdown",
   "id": "a183f015-76ad-4eb5-b667-f73d1b6a1c95",
   "metadata": {},
   "source": [
    "# Live Portrait with Blurring"
   ]
  },
  {
   "cell_type": "code",
   "execution_count": 1,
   "id": "f415148b-faf6-4700-bbc2-26bdc5b0dbfb",
   "metadata": {},
   "outputs": [],
   "source": [
    "import numpy as np\n",
    "import cv2 \n",
    "from matplotlib import pyplot as plt"
   ]
  },
  {
   "cell_type": "code",
   "execution_count": 2,
   "id": "8c60c9af-275b-4cec-bf5d-ea8c0218ab14",
   "metadata": {},
   "outputs": [],
   "source": [
    "cap = cv2.VideoCapture('road.mp4')\n",
    "\n",
    "while(1):\n",
    "    ret, frame = cap.read()\n",
    "    height = frame.shape[0]\n",
    "    width = frame.shape[1]\n",
    "    mask = np.zeros((height, width),np.uint8)\n",
    "    rect1 = cv2.rectangle(mask, (int(width*0.25),0), (int(width*0.75),height), (255,255,255), -1)\n",
    "    #rect1 = cv2.cvtColor(rect1, cv2.COLOR_BGR2RGB)\n",
    "    rect2 = cv2.bitwise_not(rect1)\n",
    "    #rect2 = cv2.cvtColor(rect2, cv2.COLOR_BRG2RGB)\n",
    "    blur = cv2.blur(frame, (31,31))\n",
    "    mid = cv2.bitwise_and(frame, frame, mask=rect1)\n",
    "    edg = cv2.bitwise_and(blur, blur, mask=rect2)\n",
    "    fin = cv2.bitwise_or(mid, edg)\n",
    "    cv2.imshow('frame', fin)\n",
    "    if cv2.waitKey(10) & 0xFF == ord('q'):\n",
    "        break\n",
    "        \n",
    "cap.release()\n",
    "cv2.destroyAllWindows() "
   ]
  },
  {
   "cell_type": "code",
   "execution_count": null,
   "id": "ede6b0dc-5d3a-4fff-9688-b06368e58c54",
   "metadata": {},
   "outputs": [],
   "source": []
  }
 ],
 "metadata": {
  "kernelspec": {
   "display_name": "Python 3",
   "language": "python",
   "name": "python3"
  },
  "language_info": {
   "codemirror_mode": {
    "name": "ipython",
    "version": 3
   },
   "file_extension": ".py",
   "mimetype": "text/x-python",
   "name": "python",
   "nbconvert_exporter": "python",
   "pygments_lexer": "ipython3",
   "version": "3.8.8"
  }
 },
 "nbformat": 4,
 "nbformat_minor": 5
}
